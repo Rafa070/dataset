{
 "cells": [
  {
   "cell_type": "code",
   "execution_count": 1,
   "id": "206b4ae9",
   "metadata": {},
   "outputs": [],
   "source": [
    "import pandas as pd\n",
    "import numpy as np\n",
    "import matplotlib.pyplot as plt\n",
    "%matplotlib inline"
   ]
  },
  {
   "cell_type": "code",
   "execution_count": 2,
   "id": "281f366c",
   "metadata": {},
   "outputs": [],
   "source": [
    "dogs = pd.read_csv('dog.csv', sep=',')"
   ]
  },
  {
   "cell_type": "code",
   "execution_count": 3,
   "id": "74b2fdda",
   "metadata": {},
   "outputs": [
    {
     "data": {
      "text/html": [
       "<div>\n",
       "<style scoped>\n",
       "    .dataframe tbody tr th:only-of-type {\n",
       "        vertical-align: middle;\n",
       "    }\n",
       "\n",
       "    .dataframe tbody tr th {\n",
       "        vertical-align: top;\n",
       "    }\n",
       "\n",
       "    .dataframe thead th {\n",
       "        text-align: right;\n",
       "    }\n",
       "</style>\n",
       "<table border=\"1\" class=\"dataframe\">\n",
       "  <thead>\n",
       "    <tr style=\"text-align: right;\">\n",
       "      <th></th>\n",
       "      <th>Year</th>\n",
       "      <th>Club</th>\n",
       "      <th>Position</th>\n",
       "      <th>Breed</th>\n",
       "      <th>Registrations</th>\n",
       "    </tr>\n",
       "  </thead>\n",
       "  <tbody>\n",
       "    <tr>\n",
       "      <th>0</th>\n",
       "      <td>2006</td>\n",
       "      <td>UK Kennel Club</td>\n",
       "      <td>1</td>\n",
       "      <td>Labrador Retriever</td>\n",
       "      <td>45.7</td>\n",
       "    </tr>\n",
       "    <tr>\n",
       "      <th>1</th>\n",
       "      <td>2006</td>\n",
       "      <td>UK Kennel Club</td>\n",
       "      <td>2</td>\n",
       "      <td>English Cocker Spaniel</td>\n",
       "      <td>20.459</td>\n",
       "    </tr>\n",
       "    <tr>\n",
       "      <th>2</th>\n",
       "      <td>2006</td>\n",
       "      <td>UK Kennel Club</td>\n",
       "      <td>3</td>\n",
       "      <td>English Springer Spaniel</td>\n",
       "      <td>15.133</td>\n",
       "    </tr>\n",
       "    <tr>\n",
       "      <th>3</th>\n",
       "      <td>2006</td>\n",
       "      <td>UK Kennel Club</td>\n",
       "      <td>4</td>\n",
       "      <td>German Shepherd</td>\n",
       "      <td>12.857</td>\n",
       "    </tr>\n",
       "    <tr>\n",
       "      <th>4</th>\n",
       "      <td>2006</td>\n",
       "      <td>UK Kennel Club</td>\n",
       "      <td>5</td>\n",
       "      <td>Staffordshire Bull Terrier</td>\n",
       "      <td>12.729</td>\n",
       "    </tr>\n",
       "    <tr>\n",
       "      <th>...</th>\n",
       "      <td>...</td>\n",
       "      <td>...</td>\n",
       "      <td>...</td>\n",
       "      <td>...</td>\n",
       "      <td>...</td>\n",
       "    </tr>\n",
       "    <tr>\n",
       "      <th>125</th>\n",
       "      <td>2019</td>\n",
       "      <td>Club registration figures for 2024</td>\n",
       "      <td>6</td>\n",
       "      <td>Poodles</td>\n",
       "      <td>-</td>\n",
       "    </tr>\n",
       "    <tr>\n",
       "      <th>126</th>\n",
       "      <td>2019</td>\n",
       "      <td>Club registration figures for 2025</td>\n",
       "      <td>7</td>\n",
       "      <td>Beagles</td>\n",
       "      <td>-</td>\n",
       "    </tr>\n",
       "    <tr>\n",
       "      <th>127</th>\n",
       "      <td>2019</td>\n",
       "      <td>Club registration figures for 2026</td>\n",
       "      <td>8</td>\n",
       "      <td>Rottweilers</td>\n",
       "      <td>-</td>\n",
       "    </tr>\n",
       "    <tr>\n",
       "      <th>128</th>\n",
       "      <td>2019</td>\n",
       "      <td>Club registration figures for 2027</td>\n",
       "      <td>9</td>\n",
       "      <td>German Shorthaired Pointer</td>\n",
       "      <td>-</td>\n",
       "    </tr>\n",
       "    <tr>\n",
       "      <th>129</th>\n",
       "      <td>2019</td>\n",
       "      <td>Club registration figures for 2028</td>\n",
       "      <td>10</td>\n",
       "      <td>Pembroke Welsh Corgi</td>\n",
       "      <td>-</td>\n",
       "    </tr>\n",
       "  </tbody>\n",
       "</table>\n",
       "<p>130 rows × 5 columns</p>\n",
       "</div>"
      ],
      "text/plain": [
       "     Year                               Club   Position  \\\n",
       "0    2006                      UK Kennel Club         1   \n",
       "1    2006                      UK Kennel Club         2   \n",
       "2    2006                      UK Kennel Club         3   \n",
       "3    2006                      UK Kennel Club         4   \n",
       "4    2006                      UK Kennel Club         5   \n",
       "..    ...                                 ...       ...   \n",
       "125  2019  Club registration figures for 2024         6   \n",
       "126  2019  Club registration figures for 2025         7   \n",
       "127  2019  Club registration figures for 2026         8   \n",
       "128  2019  Club registration figures for 2027         9   \n",
       "129  2019  Club registration figures for 2028        10   \n",
       "\n",
       "                          Breed Registrations  \n",
       "0            Labrador Retriever          45.7  \n",
       "1        English Cocker Spaniel        20.459  \n",
       "2      English Springer Spaniel        15.133  \n",
       "3               German Shepherd        12.857  \n",
       "4    Staffordshire Bull Terrier        12.729  \n",
       "..                          ...           ...  \n",
       "125                     Poodles             -  \n",
       "126                     Beagles             -  \n",
       "127                 Rottweilers             -  \n",
       "128  German Shorthaired Pointer             -  \n",
       "129        Pembroke Welsh Corgi             -  \n",
       "\n",
       "[130 rows x 5 columns]"
      ]
     },
     "execution_count": 3,
     "metadata": {},
     "output_type": "execute_result"
    }
   ],
   "source": [
    "dogs"
   ]
  },
  {
   "cell_type": "markdown",
   "id": "ace2de63",
   "metadata": {},
   "source": [
    "# Tratamento dos Dados"
   ]
  },
  {
   "cell_type": "markdown",
   "id": "515c6534",
   "metadata": {},
   "source": [
    "## 1 - Identificação e tratamento de valores ausentes/nulos (missing);"
   ]
  },
  {
   "cell_type": "code",
   "execution_count": 10,
   "id": "399cf3f7",
   "metadata": {},
   "outputs": [
    {
     "data": {
      "text/plain": [
       "Year             0\n",
       "Club             0\n",
       "Position         0\n",
       "Breed            0\n",
       "Registrations    0\n",
       "dtype: int64"
      ]
     },
     "execution_count": 10,
     "metadata": {},
     "output_type": "execute_result"
    }
   ],
   "source": [
    "dogs.isnull().sum()"
   ]
  },
  {
   "cell_type": "code",
   "execution_count": 4,
   "id": "d2134083",
   "metadata": {},
   "outputs": [
    {
     "data": {
      "text/plain": [
       "0        45.7\n",
       "1      20.459\n",
       "2      15.133\n",
       "3      12.857\n",
       "4      12.729\n",
       "        ...  \n",
       "125         -\n",
       "126         -\n",
       "127         -\n",
       "128         -\n",
       "129         -\n",
       "Name: Registrations, Length: 130, dtype: object"
      ]
     },
     "execution_count": 4,
     "metadata": {},
     "output_type": "execute_result"
    }
   ],
   "source": [
    "'''\n",
    "No dataframe em análise não foi constatado valores nulos, \n",
    "porém na coluna Registrations foi dectatado visualmente no dataFrame \"-\", \" \", \".\" que ficultavam a análise. \n",
    "'''\n",
    "dogs['Registrations']"
   ]
  },
  {
   "cell_type": "code",
   "execution_count": 5,
   "id": "46ef58d4",
   "metadata": {},
   "outputs": [
    {
     "data": {
      "text/plain": [
       "0        457\n",
       "1      20459\n",
       "2      15133\n",
       "3      12857\n",
       "4      12729\n",
       "       ...  \n",
       "125        0\n",
       "126        0\n",
       "127        0\n",
       "128        0\n",
       "129        0\n",
       "Name: Registrations, Length: 130, dtype: int32"
      ]
     },
     "execution_count": 5,
     "metadata": {},
     "output_type": "execute_result"
    }
   ],
   "source": [
    "'''\n",
    "Para realizar o tratamento dos dados necessarios, os metados a baixo foram utilizados para \n",
    "substituir os valores da coluna Registrations \"-\" para \"0\", retirar o espaçamento, o ponto, e por fim mudar \n",
    "o tipo do valor de objeto para inteiro\n",
    "'''\n",
    "\n",
    "dogs['Registrations'] = dogs['Registrations'].str.replace('-','0',regex=True)\n",
    "dogs['Registrations'] = dogs['Registrations'].str.replace(' ','',regex=True)\n",
    "dogs['Registrations'] = dogs['Registrations'].str.replace('.','',regex=True)\n",
    "dogs['Registrations'] = dogs['Registrations'].astype(int)\n",
    "dogs['Registrations']"
   ]
  },
  {
   "cell_type": "markdown",
   "id": "3ea02e63",
   "metadata": {},
   "source": [
    "## 2 -  Identificação e tratamento de valores atípicos (outliers);\n",
    "\n",
    "- Outliers são valores atípicos em relação ao demais valores em um conjunto de dados, sabendo disso, para identificar nos gráficos a seguir foi utilizado o método boxplots, nele o outliers são representados como pontos além dos limites superiores e inferiores, logo os resultados dos gráficos das colunas Year, Position e Registrations não apresentaram valores anômolos ao demais valores do conjunto de dados."
   ]
  },
  {
   "cell_type": "code",
   "execution_count": 7,
   "id": "6d977eb4",
   "metadata": {},
   "outputs": [
    {
     "data": {
      "text/plain": [
       "<AxesSubplot: >"
      ]
     },
     "execution_count": 7,
     "metadata": {},
     "output_type": "execute_result"
    },
    {
     "data": {
      "image/png": "[encoded data removed]",
      "text/plain": [
       "<Figure size 640x480 with 1 Axes>"
      ]
     },
     "metadata": {},
     "output_type": "display_data"
    }
   ],
   "source": [
    "dogs.boxplot(column=['Year'])"
   ]
  },
  {
   "cell_type": "code",
   "execution_count": 8,
   "id": "6fe55089",
   "metadata": {},
   "outputs": [
    {
     "data": {
      "text/plain": [
       "<AxesSubplot: >"
      ]
     },
     "execution_count": 8,
     "metadata": {},
     "output_type": "execute_result"
    },
    {
     "data": {
      "image/png": "[encoded data removed]",
      "text/plain": [
       "<Figure size 640x480 with 1 Axes>"
      ]
     },
     "metadata": {},
     "output_type": "display_data"
    }
   ],
   "source": [
    "dogs.boxplot(column=['Position'])"
   ]
  },
  {
   "cell_type": "code",
   "execution_count": 9,
   "id": "3a8cb30a",
   "metadata": {},
   "outputs": [
    {
     "data": {
      "text/plain": [
       "<AxesSubplot: >"
      ]
     },
     "execution_count": 9,
     "metadata": {},
     "output_type": "execute_result"
    },
    {
     "data": {
      "image/png": "[encoded data removed]",
      "text/plain": [
       "<Figure size 640x480 with 1 Axes>"
      ]
     },
     "metadata": {},
     "output_type": "display_data"
    }
   ],
   "source": [
    "dogs.boxplot(column=['Registrations'])"
   ]
  },
  {
   "cell_type": "markdown",
   "id": "7ccf75a1",
   "metadata": {},
   "source": [
    "## 3 - Tratamento em formato de dados\n"
   ]
  },
  {
   "cell_type": "markdown",
   "id": "2c0c9fde",
   "metadata": {},
   "source": [
    "## 4 - Se vários datasets, identificar chaves primárias e realizar a junção (join)\n",
    "\n",
    "- Como foi utilizado apenas um dataframe não foi necessario realizar a junção."
   ]
  },
  {
   "cell_type": "markdown",
   "id": "73aba8ab",
   "metadata": {},
   "source": [
    "## 5 - Criação de novos dados para facilitar a análise (feature engineering)\n",
    "\n",
    "- Por se tratar de um dataframe pequeno não foi necessário criar novos dados para substituir os originais"
   ]
  },
  {
   "cell_type": "markdown",
   "id": "225a87a1",
   "metadata": {},
   "source": [
    "## 6 - Realizar 5 análises descritivas e gerar os respectivos gráficos\n"
   ]
  },
  {
   "cell_type": "markdown",
   "id": "9071d72b",
   "metadata": {},
   "source": [
    "#### 1 - Qual é a raça mais popular por clube de cães?"
   ]
  },
  {
   "cell_type": "code",
   "execution_count": null,
   "id": "22dbe430",
   "metadata": {},
   "outputs": [],
   "source": []
  }
 ],
 "metadata": {
  "kernelspec": {
   "display_name": "Python 3 (ipykernel)",
   "language": "python",
   "name": "python3"
  },
  "language_info": {
   "codemirror_mode": {
    "name": "ipython",
    "version": 3
   },
   "file_extension": ".py",
   "mimetype": "text/x-python",
   "name": "python",
   "nbconvert_exporter": "python",
   "pygments_lexer": "ipython3",
   "version": "3.10.7"
  }
 },
 "nbformat": 4,
 "nbformat_minor": 5
}
